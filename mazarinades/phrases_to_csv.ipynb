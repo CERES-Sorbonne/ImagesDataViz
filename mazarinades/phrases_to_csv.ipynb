{
 "cells": [
  {
   "cell_type": "code",
   "execution_count": 1,
   "metadata": {},
   "outputs": [],
   "source": [
    "# Importation de modules\n",
    "\n",
    "import unicodedata as uni\n",
    "# Normaliser les chaînes de caractère\n",
    "import re\n",
    "# Écrire des Regex\n",
    "import os\n",
    "# Modifier des fichiers sur le système d'exploitation\n",
    "import csv as csvlib\n",
    "# Lire et écrire du .csv\n",
    "from fuzzywuzzy import fuzz\n",
    "from fuzzywuzzy import process\n",
    "# Comparer des chaînes de caractères\n",
    "import xml.etree.ElementTree as ET\n",
    "# Lire du .xml\n",
    "ns = \"http://www.tei-c.org/ns/1.0\"\n",
    "# Définition du namespace du xml"
   ]
  },
  {
   "cell_type": "code",
   "execution_count": 2,
   "metadata": {},
   "outputs": [],
   "source": [
    "def strip_accents(s):\n",
    "   return ''.join(c for c in uni.normalize('NFD', s)\n",
    "                  if uni.category(c) != 'Mn')"
   ]
  },
  {
   "cell_type": "code",
   "execution_count": 3,
   "metadata": {},
   "outputs": [
    {
     "name": "stdout",
     "output_type": "stream",
     "text": [
      " recit dv dvel memorable fait a ruel entre dix laquais des deputez, &amp; autant d'eſtaphiers de mazarin. le vingt-huictieſme mars mil ſix cens quarante-neuf. en vers bvrlesqves. a paris, chez la veuſue d'anthoine covlon, rue d'eſcoſſe, aux trois cramailleres. m. dc. xlix. avec permission. 3 le dvel memoraale fait a ruel entre dix laquais des deputez, &amp; autant d'eſta phiers de mazarin. le vingt-huictieme mars 1649. en vers bvrlesqves. mvse a la jouiale trongne de grace ton flageol empongne, et ſoufle ſi bien dans ſes trous, que tu faſſe connoiſtre a tous, non ce que fit jadis aenee pour les dieux de ſa cheminee: non les exploits grands &amp; fameux de nos paladins genereux; non la memorable proueſſe des anciens heros de la grece; mais ce que firent l'autre jour meſſieurs nos laquais a la cour. publie par toute la ville le combat de dame mandille, et ce memorable duel fait dedans les champs de ruel. 4 chante comme cette seance qui nous cauſe icy tant de tranſe, fut le ſujet de ce conflit: mais tu tardes trop le recit. le picard, champagne, le baſque, le lorrain, pierrot &amp; grand-iaque, et quatre autres veſtus de gris, dont l'vn eſt enfant de paris, faſchez que cette conference, qui doit regler toute la france, allant du jour au lendemain, les arreſtoit a sainct germain, ou le teſton de leur deſpenſe, ne peut pas fournir a leur panſe, soit le jour maigre, ſoit le gras, la douceur du moindre repas: que meſme durant la famine, et la cherte de la farine, ils ſouloient faire en ces quartiers chez noſſeigneurs les conſeillers. faſchez, dis-je, de leur diſette, et des longueurs de la diette, l'vn ayant vendu trois rabas, pierrot des gands, lorrain ſes bas, le baſque ſa chemiſe fine, picart des canons de ratine, (les autres auoient au gouſſet des ſols enuiron chacun ſept) ils 5 ils entrent dans vne tauerne, ou le maiſtre qui la gouuerne (soit pour n'entendre leurs caquets, soit qu'il mepriſaſt les laquais) les obligea de prendre table dans vn des coins de ſon eſtable (ils n'eſtoient toutefois pas mal, puis que monſieur le cardinal auoit dedans cette eſcurie ses beaux cheuaux de barbarie) nos drolles auecque eux placez pour noyer tous leurs maux paſſez, apres en auoir videz mainte demandoient encore vne pinte quand vn maiſtre pallefrenier, ou tout au plus vn eſtaphier, leur dit qu'ils ſortiſſent de table, qu'il vouloit fermer cette eſtable, qu'ils eſtoient en ce lieu ſuſpects, et qu'ils auoient peu de reſpects, pour des cheuaux que le grand iule aimoit plus qu'vn pape ſa mule. le picard reſpond a ce mot chacun en payant ſon eſcot dedans ce lieu doit eſtre libre, vas te faire... au dela du tybre, b 6 ie dis nargue de mazarin, ny toy ny luy ne valez rien; s'il aime tant vne eſcurie qu'il en cherche en ſon italie, quoy que je ne ſois vn cheual ie veux malgre ton cardinal m'eſchaufer icy la caboche tant que j'aurai maille en ma poche. a ces mots monſieur l'eſtaphier ne pouuant deſſus ſon fumier souffrir de pareilles brauades, s'en va chercher ſes camarades, afin de tirer la raiſon, soit de force ou par trahiſon. tandis que ſa troupe il appreſte nos drolles jouent de leur reſte, ils baillent leur dernier denier, puis ayant payez l'hoſtellier adieu. mais voicy dans la rue, mon eſtaphier l'eſpee nue, accompagne de neuf coquins veſtus de meſmes caſaquins, qui pourſuiuet mes pauures drilles: deux jettent a bas leurs mandilles, les autres l'eſpee a la main rarent &amp; ſortent ſainct germain: 7 les voila tous a la campagne hormis le malheureux champagne. qui bleſſe d'vn coup de baſton chante vn triſte qu'en dira-t'on. dix contre neuf. on ſe mal-traite; mais l'italien fait la beſte: quatre ſont mis hors de combas. et trois morts tombent le nez bas. les noſtres n'ont point de bleſſure, hormis pierrot, dont la freſſure a ſenty la pointe du fer d'vn des trois qui ſont en enfer: mais cette bleſſure eſt legere, et ſa tante la harangere auec vn peu d'huile &amp; de vin en trois jours le va rendre ſain. braue ennemy de l'eminence ie ne puis paſſer ſous ſilence que de la deſpouille des morts, dont il t'eſcheut deux juſtaucorps, tu les donnas tous deux pour boire a la ſante de la victoire, du roy, de noſtre parlement, et de ceux qui dirent amen. voila le recit veritable du combat fait pour vne eſtable, 8 dont iules ce grand cardinal, soit pour n'eſtre rien qu'vn cheual. soit pour eſtre iſſu d'vn grand pere de nobleſſe pallefreniere, teſmoigne d'eſtre ſi jaloux, qu'il veut qu'a la mercy des coups ses valets, juſqu'au plus beau page, en diſputent pour luy l'vſage: dire ſi ſa pretention eſt juſte ou d'vſurpation: c'eſt pourquoy ma plume ne bouge, car je ſcay bien qu'vn aſne rouge se rencontrant en quelque endroit veut tout en vertu de ſon droit. fin. \n"
     ]
    }
   ],
   "source": [
    "# initier un compteur de phrases\n",
    "id_phrase = 0\n",
    "\n",
    "# créer un dictionnaire nodes[id_text + \"ph\" + id_phrase] = [id_text, id_phrase, text, label]\n",
    "nodes = {}\n",
    "# créer un dictionnaire edges[source] = [target, lev_distance]\n",
    "edges = {}\n",
    "\n",
    "for root_path, _, files in os.walk(\"mazarinades\"):\n",
    "    for name in files:\n",
    "        if(not name.endswith(\".xml\")):\n",
    "            continue\n",
    "        with open(os.path.join(root_path, name), 'r', encoding='utf-8') as f:\n",
    "          # pour chaque fichier .xml du dossier mazarinades\n",
    "            xml = f.read()\n",
    "            root = ET.fromstring(xml)\n",
    "            id_phrase = 0\n",
    "            # récupérer le titre du document pour l'afficher en label des noeuds\n",
    "            title = root.find(\".//{\" + ns + \"}title\").text\n",
    "            try:\n",
    "                label = re.sub(r'\\s+', ' ', title).replace('\\n', '')\n",
    "            except:\n",
    "                label = \"no_title\"\n",
    "            id_text = name.replace(\".xml\", \"\")\n",
    "            # récupérer l'identifiant dans id_text\n",
    "            nodes[id_text + \"ph\" +\n",
    "                  str(id_phrase)] = [id_text, str(id_phrase), \"null\", label]\n",
    "            # insérer le noeud titre dans le dictionnaire de noeuds\n",
    "            full_text = re.sub(r'\\s+', ' ', (re.sub(r'<.+?>|<\\/?|\\/?>', ' ', xml.split(\"body>\")[1])))\n",
    "            # extraire le texte et supprimer toutes les balises et les espaces multiples\n",
    "            full_text = strip_accents(full_text.replace(\"¬\", \"\").lower())\n",
    "            # supprimer les tirets, les diacritiques et mettre tout en minuscules\n",
    "            if id_text == \"Moreau2993_GALL\":\n",
    "                print(full_text)\n",
    "            phrases = re.split(r\"\\.\\?\\!\", full_text)\n",
    "            # for phrase in phrases:\n",
    "            # id_phrase += 1\n",
    "            # nodes[id_text + \"ph\" + id_phrase] = [id_text, id_phrase, phrase, \"null\"]\n",
    "\n",
    "# créer une liste de textes déjà évalués analysed_texts = []\n",
    "\n",
    "# for id, node in nodes.items():\n",
    "  # analysed_texts.append(node[0])\n",
    "  # for cur_id, cur_node in nodes.items():\n",
    "        # lev_distance = fuzz.ratio(node[2], cur_node[2]) / 100\n",
    "        # if (lev_distance >= 0.80\n",
    "        # && cur_node[0] not in analysed_texts\n",
    "        # && node[2] != \"null\"\n",
    "        # && cur_node[2] != \"null\"):\n",
    "        # edges[id] = [cur_id, lev_distance]\n",
    "\n",
    "\n",
    "# remplir les dictionnaires\n",
    "# verser le contenu dans un fichier maz_phrases.csv\n"
   ]
  }
 ],
 "metadata": {
  "interpreter": {
   "hash": "3785a633635558c05a6b1aca16a69f0ae054170ee828414f8ee7977178feb401"
  },
  "kernelspec": {
   "display_name": "Python 3.9.7 ('base')",
   "language": "python",
   "name": "python3"
  },
  "language_info": {
   "codemirror_mode": {
    "name": "ipython",
    "version": 3
   },
   "file_extension": ".py",
   "mimetype": "text/x-python",
   "name": "python",
   "nbconvert_exporter": "python",
   "pygments_lexer": "ipython3",
   "version": "3.9.7"
  },
  "orig_nbformat": 4
 },
 "nbformat": 4,
 "nbformat_minor": 2
}
