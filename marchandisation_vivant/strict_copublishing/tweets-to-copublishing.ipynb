{
 "cells": [
  {
   "cell_type": "code",
   "execution_count": 1,
   "metadata": {},
   "outputs": [],
   "source": [
    "# importation des modules\n",
    "\n",
    "import os\n",
    "import csv\n",
    "import json\n",
    "import pandas as pd\n",
    "from tqdm.notebook import tqdm"
   ]
  },
  {
   "cell_type": "code",
   "execution_count": 3,
   "metadata": {},
   "outputs": [],
   "source": [
    "# extraction des tweets\n",
    "\n",
    "tweet_set = \"mpt\"\n",
    "path_to_tweets = f'../../../Données/all-{tweet_set}-tweets.csv'\n",
    "\n",
    "df = pd.read_csv(path_to_tweets, sep=',')\n",
    "sorted_tweets = df.sort_values(by=\"average_hash\")"
   ]
  },
  {
   "cell_type": "code",
   "execution_count": 13,
   "metadata": {},
   "outputs": [],
   "source": [
    "# fonction d'écriture des liens au format csv\n",
    "\n",
    "def dict_to_csv(dict):\n",
    "    edges = \"source;target;weight;sha1;average_hash\\n\"\n",
    "    for key, value in dict.items():\n",
    "            user_1, user_2 = key.split('-')\n",
    "            edges += f\"{user_1};{user_2};{value['weight']};{value['sha1']};{value['average_hash']}\\n\"\n",
    "    return edges"
   ]
  },
  {
   "cell_type": "code",
   "execution_count": 14,
   "metadata": {},
   "outputs": [],
   "source": [
    "# fonction d'insertion d'un lien dans le dictionnaire\n",
    "\n",
    "def add_edge(dict, key, sha1, ahash):\n",
    "    # si le couple de comptes n'est pas référencé dans le dictionnaire, créer le lien\n",
    "    if key not in dict:\n",
    "        dict[key] = {\"weight\": 0, \"sha1\": sha1, \"average_hash\": ahash}\n",
    "    # si le couple de comptes est déjà référencé dans le dictionnaire, augmenter le poids de leur lien\n",
    "    dict[key][\"weight\"] += 1"
   ]
  },
  {
   "cell_type": "code",
   "execution_count": 15,
   "metadata": {},
   "outputs": [
    {
     "data": {
      "application/vnd.jupyter.widget-view+json": {
       "model_id": "b812998400dd476cbfbb81a3776915a1",
       "version_major": 2,
       "version_minor": 0
      },
      "text/plain": [
       "  0%|          | 0/3666 [00:00<?, ?it/s]"
      ]
     },
     "metadata": {},
     "output_type": "display_data"
    }
   ],
   "source": [
    "# stocker les ahash de la première ligne pour initialiser\n",
    "current_ahash = sorted_tweets[\"average_hash\"][0]\n",
    "\n",
    "# on stock dans ce tableau des triplets de type (username, sha1, tweet_text)\n",
    "# il permet de comparer l'utilisateur actuel de la boucle (user_name) avec tous les autres utilisateurs ayant partagé le même averagehash\n",
    "current_users = []\n",
    "\n",
    "# initialisation du dictionnaire de liens de copublication\n",
    "copublishing_links = {}\n",
    "\n",
    "with tqdm(total=sorted_tweets.shape[0]) as pbar:\n",
    "    # pour chaque ligne du csv\n",
    "    for index, row in sorted_tweets.iterrows():\n",
    "        \n",
    "        user_name = row['user_name']\n",
    "        ahash = row['average_hash']\n",
    "        sha1 = row['sha1']\n",
    "        text = row['text']\n",
    "\n",
    "        # si le averagehash est le même que celui d'avant\n",
    "        if ahash == current_ahash:\n",
    "            # on va checker tous les users d'avant qui avaient le même average hash\n",
    "            for current_user, current_sha1, current_text in current_users:\n",
    "                # on vérifie que ça n'est pas le même user, ni le même sha1\n",
    "                if current_user != user_name and not current_text.startswith(\"RT @\") and not text.startswith(\"RT @\"):\n",
    "                    key = \"-\".join(sorted([current_user, user_name]))\n",
    "                    # on créé un lien de partage\n",
    "                    add_edge(copublishing_links, key, sha1, ahash)\n",
    "        # sinon on remet à 0 la liste des utilisateurs du averagehash\n",
    "        else:\n",
    "            current_users = []\n",
    "            current_ahash = ahash\n",
    "        # dans tous les cas on ajoute le user qu'on est en train de traiter avec son sha1 à la liste des users à comparer\n",
    "        current_users.append([user_name, sha1, text])\n",
    "\n",
    "        pbar.update(1)\n"
   ]
  },
  {
   "cell_type": "code",
   "execution_count": 16,
   "metadata": {},
   "outputs": [],
   "source": [
    "# Écrire le .csv\n",
    "\n",
    "with open(f\"strict-copublishing-{tweet_set}.csv\", 'w', encoding='utf-8') as f:\n",
    "    f.write(dict_to_csv(copublishing_links))"
   ]
  }
 ],
 "metadata": {
  "kernelspec": {
   "display_name": "Python 3.9.7 ('base')",
   "language": "python",
   "name": "python3"
  },
  "language_info": {
   "codemirror_mode": {
    "name": "ipython",
    "version": 3
   },
   "file_extension": ".py",
   "mimetype": "text/x-python",
   "name": "python",
   "nbconvert_exporter": "python",
   "pygments_lexer": "ipython3",
   "version": "3.9.7"
  },
  "orig_nbformat": 4,
  "vscode": {
   "interpreter": {
    "hash": "3785a633635558c05a6b1aca16a69f0ae054170ee828414f8ee7977178feb401"
   }
  }
 },
 "nbformat": 4,
 "nbformat_minor": 2
}
