{
 "cells": [
  {
   "cell_type": "code",
   "execution_count": 1,
   "metadata": {},
   "outputs": [],
   "source": [
    "# importation des modules\n",
    "\n",
    "import os\n",
    "import csv\n",
    "import json\n",
    "import shutil\n",
    "import pandas as pd\n",
    "from tqdm.notebook import tqdm\n"
   ]
  },
  {
   "cell_type": "code",
   "execution_count": null,
   "metadata": {},
   "outputs": [],
   "source": [
    "tweet_set = 'mpt'\n",
    "path_to_images = os.path.join('', tweet_set)\n",
    "path_to_edges = 'strict-copublishing-' + tweet_set\n",
    "output_folder = os.path.join('images', tweet_set)\n",
    "\n",
    "# ouvrir le fichier de liens\n",
    "# stocker le contenu\n",
    "\n",
    "f = pd.read_csv(path_to_edges, sep=',')\n",
    "edges = f.sort_values(by=\"average_hash\")\n",
    "\n",
    "known_hashes = []\n",
    "known_sha1 = []\n",
    "\n",
    "# pour chaque ligne\n",
    "for _, row in edges.iterrows():\n",
    "\n",
    "    ahash = row['average_hash']\n",
    "    sha1 = row['sha1']\n",
    "\n",
    "    if sha1 not in known_sha1:\n",
    "        if ahash not in known_hashes:\n",
    "            os.mkdir(os.path.join(output_folder, ahash))\n",
    "            known_hashes.append(ahash)\n",
    "        # chercher une image dont le nom correspond à ce sha1\n",
    "        match = [f for f in os.listdir(path_to_images) if any([f == sha1, f.startswith(sha1+\".\")])]\n",
    "        # copier l'image dans le dossier du average hash\n",
    "        if match:\n",
    "            match = match[0]\n",
    "            shutil.copy(os.path.join(path_to_images, match), os.path.join(output_folder, ahash))\n",
    "            break\n",
    "        known_sha1.append(sha1)\n"
   ]
  }
 ],
 "metadata": {
  "kernelspec": {
   "display_name": "Python 3.9.7 ('base')",
   "language": "python",
   "name": "python3"
  },
  "language_info": {
   "codemirror_mode": {
    "name": "ipython",
    "version": 3
   },
   "file_extension": ".py",
   "mimetype": "text/x-python",
   "name": "python",
   "nbconvert_exporter": "python",
   "pygments_lexer": "ipython3",
   "version": "3.9.7"
  },
  "orig_nbformat": 4,
  "vscode": {
   "interpreter": {
    "hash": "3785a633635558c05a6b1aca16a69f0ae054170ee828414f8ee7977178feb401"
   }
  }
 },
 "nbformat": 4,
 "nbformat_minor": 2
}
