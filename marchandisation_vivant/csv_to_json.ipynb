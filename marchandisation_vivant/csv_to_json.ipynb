{
 "cells": [
  {
   "cell_type": "code",
   "execution_count": 26,
   "id": "a23e5e34",
   "metadata": {},
   "outputs": [],
   "source": [
    "import re\n",
    "# importation du module qui permet d'écrire des Regex\n",
    "import os\n",
    "# importation du module qui permet de modifier des fichiers sur le système d'exploitation\n",
    "import csv as csvlib\n",
    "# importation du module permettant de lire et d'écrire du .csv\n",
    "import json\n",
    "# importation du module permettant de lire et d'écrire du .json"
   ]
  },
  {
   "cell_type": "code",
   "execution_count": 27,
   "id": "b38e28f1",
   "metadata": {},
   "outputs": [],
   "source": [
    "# créer une liste json_DB (qui équivaut en .json à un array)\n",
    "# qui comprendra tous les éléments de la base de données .json\n",
    "json_db = []\n",
    "existing_links = set()\n",
    "\n",
    "# créer un dictionnaire user_img\n",
    "# qui comprendra tous les usager•es et les images qu'iels ont publié\n",
    "users_imgs = {}\n",
    "\n",
    "# initier un compteur img_id = 0\n",
    "img_id = 0\n",
    "\n",
    "with open('tweets_marchandisation.csv', 'r', encoding='utf-8') as f:\n",
    "    reader = csvlib.reader(f, delimiter=\";\")\n",
    "    # lire le fichier .csv\n",
    "    headers = next(reader)\n",
    "    # sauter la première ligne\n",
    "    for line in reader:\n",
    "        text, created, user, sha1, category, ahash, image = line\n",
    "        # récupérer les variables du .csv\n",
    "        name = f'mv.{category}.{ahash}.{img_id}'\n",
    "        # inscrire la hiérarchie des noeuds dans le nom du noeud\n",
    "        node = {\n",
    "            'name': name,\n",
    "            'user': user,\n",
    "            'sha1': sha1,\n",
    "            'img_url': image,\n",
    "            'adj_links': []\n",
    "        }\n",
    "        img_id += 1\n",
    "        if user not in users_imgs:\n",
    "            users_imgs[user] = set()\n",
    "            # si l'usager•e n'est pas dans la base d'usager•es, créer une entrée à son nom\n",
    "        users_imgs[user].add(node['name'])\n",
    "        # ajouter le nom du noeud à la base d'usager•es\n",
    "        json_db.append(node)\n",
    "        # inclure le noeud dans la base de données\n",
    "\n",
    "for node in json_db:\n",
    "    # pour chaque noeud\n",
    "    for _, img_list in users_imgs.items():\n",
    "        # pour chaque liste d'images dans la base d'usager•es\n",
    "        if node['name'] in img_list:\n",
    "            # si le nom du noeud est dans la liste d'images\n",
    "            for img in list(img_list):\n",
    "                link = [img, node[\"name\"]]\n",
    "                link.sort()\n",
    "                link = '-'.join(link)\n",
    "                # formater le lien\n",
    "                if img != node['name'] and link not in existing_links:\n",
    "                    node['adj_links'].append(img)\n",
    "                    # ajouter le lien\n",
    "                    existing_links.add(link)\n",
    "                    # ajouter le lien dans la base de liens\n",
    "            img_list.remove(node['name'])\n",
    "            # supprimer le noeud du \n"
   ]
  },
  {
   "cell_type": "code",
   "execution_count": 28,
   "id": "dcada9da",
   "metadata": {},
   "outputs": [],
   "source": [
    "with open('database_marchandisation.json', 'w') as f:\n",
    "    json.dump(json_db, f)"
   ]
  }
 ],
 "metadata": {
  "kernelspec": {
   "display_name": "Python 3 (ipykernel)",
   "language": "python",
   "name": "python3"
  },
  "language_info": {
   "codemirror_mode": {
    "name": "ipython",
    "version": 3
   },
   "file_extension": ".py",
   "mimetype": "text/x-python",
   "name": "python",
   "nbconvert_exporter": "python",
   "pygments_lexer": "ipython3",
   "version": "3.10.4"
  }
 },
 "nbformat": 4,
 "nbformat_minor": 5
}
