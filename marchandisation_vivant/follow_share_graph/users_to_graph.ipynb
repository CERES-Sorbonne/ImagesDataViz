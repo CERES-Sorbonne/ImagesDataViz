{
 "cells": [
  {
   "cell_type": "code",
   "execution_count": null,
   "metadata": {},
   "outputs": [],
   "source": [
    "import os\n",
    "import csv\n",
    "import json\n",
    "import pandas as pd"
   ]
  },
  {
   "cell_type": "code",
   "execution_count": null,
   "metadata": {},
   "outputs": [],
   "source": [
    "df = pd.read_csv('tweets_marchandisation.csv', sep=';')"
   ]
  },
  {
   "cell_type": "code",
   "execution_count": null,
   "metadata": {},
   "outputs": [],
   "source": [
    "sorted = df.sort_values(by=\"sha1\")\n",
    "users_parsed = []\n",
    "edges = \"Source;Target;TypeLien;Weight;Sha1\\n\"\n",
    "previous_sha1 = None\n",
    "previous_user = None\n",
    "# pour chaque ligne du csv\n",
    "for index, row in sorted.iterrows():\n",
    "    user_name = row['from_user_name']\n",
    "    # si le sha1 de la ligne est celui de la ligne d'avant, on créé un lien\n",
    "    # cela veut dire que les deux utilisateurs ont partagé la même image\n",
    "    if previous_sha1 == row['sha1'] and previous_user != user_name:\n",
    "        edges += f\"{user_name};{previous_user};Partage;1;{previous_sha1}\\n\"\n",
    "    try:\n",
    "        # si on a pas déjà regardé les followers de l'utilisateur\n",
    "        if user_name not in users_parsed:\n",
    "            # on ouvre le fichier des followers\n",
    "            with open('../TwitterScripts/resources/following/' + user_name + '.json', 'r') as f:\n",
    "                # on ne garde que les followers qui sont aussi dans le corpus\n",
    "                data = [user['username'] for user in json.load(f) if user['username'] in list(df['from_user_name'])]\n",
    "                # on créé un lien entre chacun de ces followers et l'utilisateur courant\n",
    "                for user in data:\n",
    "                    edges += f\"{user_name};{user};Follow;0.1;\\n\"\n",
    "            users_parsed.append(user_name)\n",
    "    except FileNotFoundError:\n",
    "        print(user_name + \" not found!\")\n",
    "        not_found += 1\n",
    "    except json.JSONDecodeError:\n",
    "        print(user_name + \" error!\")\n",
    "    previous_sha1 = row['sha1']\n",
    "    previous_user = user_name\n",
    "not_found"
   ]
  },
  {
   "cell_type": "code",
   "execution_count": null,
   "metadata": {},
   "outputs": [],
   "source": [
    "'xarratt' in list(df['from_user_name'])"
   ]
  },
  {
   "cell_type": "code",
   "execution_count": null,
   "metadata": {},
   "outputs": [],
   "source": [
    "sorted = df.sort_values(by=\"sha1\")\n",
    "users_parsed = []\n",
    "edges = \"Source;Target;TypeLien;Weight;Sha1\\n\"\n",
    "current_sha1 = None\n",
    "current_user = None\n",
    "for index, row in sorted.iterrows():\n",
    "    user_name = row['from_user_name']\n",
    "    if current_sha1 == row['sha1'] and current_user != user_name:\n",
    "        try:\n",
    "            with open('../TwitterScripts/resources/following/' + user_name + '.json', 'r') as f:\n",
    "                data = [user['username'] for user in json.load(f)]\n",
    "                if current_user in data:\n",
    "                    type_link = \"Partage&Follow\"\n",
    "                else:\n",
    "                    type_link = \"Partage\"\n",
    "                edges += f\"{user_name};{current_user};{type_link};1;{current_sha1}\\n\"\n",
    "\n",
    "        except FileNotFoundError:\n",
    "            print(user_name + \" not found!\")\n",
    "            not_found += 1\n",
    "        except json.JSONDecodeError:\n",
    "            print(user_name + \" error!\")\n",
    "    current_sha1 = row['sha1']\n",
    "    current_user = user_name\n",
    "not_found"
   ]
  },
  {
   "cell_type": "code",
   "execution_count": null,
   "metadata": {},
   "outputs": [],
   "source": [
    "with open('edges_followers_vs_shares_middle.csv', 'w', encoding='utf-8') as f:\n",
    "    f.write(edges)"
   ]
  }
 ],
 "metadata": {
  "kernelspec": {
   "display_name": "analyse_images",
   "language": "python",
   "name": "analyse_images"
  },
  "language_info": {
   "codemirror_mode": {
    "name": "ipython",
    "version": 3
   },
   "file_extension": ".py",
   "mimetype": "text/x-python",
   "name": "python",
   "nbconvert_exporter": "python",
   "pygments_lexer": "ipython3",
   "version": "3.9.5"
  },
  "orig_nbformat": 4
 },
 "nbformat": 4,
 "nbformat_minor": 2
}
