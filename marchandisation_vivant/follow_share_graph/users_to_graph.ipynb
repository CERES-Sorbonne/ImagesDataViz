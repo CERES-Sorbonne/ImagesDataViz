{
 "cells": [
  {
   "cell_type": "code",
   "execution_count": 8,
   "metadata": {},
   "outputs": [],
   "source": [
    "import os\n",
    "import csv\n",
    "import json\n",
    "import pandas as pd"
   ]
  },
  {
   "cell_type": "code",
   "execution_count": 9,
   "metadata": {},
   "outputs": [],
   "source": [
    "path_to_tweets = '../hierarchical_edge_bundling/tweets_marchandisation.csv'\n",
    "path_to_users = 'following/'\n",
    "\n",
    "df = pd.read_csv( path_to_tweets, sep=';')\n",
    "sorted = df.sort_values(by=\"average_hash\")\n",
    "\n",
    "users_parsed = []\n",
    "edges = \"Source;Target;TypeLien;Weight;AverageHash\\n\"\n",
    "not_found = 0\n",
    "share_weight = 0.1\n",
    "follow_weight = 1"
   ]
  },
  {
   "cell_type": "code",
   "execution_count": 10,
   "metadata": {},
   "outputs": [],
   "source": [
    "# Créer des liens basés sur la copublication de average hashes et le follow\n",
    "\n",
    "# pour chaque ligne du csv\n",
    "for index, row in sorted.iterrows():\n",
    "    user_name = row['from_user_name']\n",
    "    ahash = row['average_hash']\n",
    "    # pour chaque tweet qui n'a pas encore été inspecté\n",
    "    for tmp_index, tmp_row in sorted.iterrows():\n",
    "        if tmp_index < index:\n",
    "            continue\n",
    "        # qui comprend le même average hash et dont l'auteur n'est pas le même que le tweet original\n",
    "        if tmp_row['average_hash'] == row['average_hash'] and tmp_row['from_user_name'] != user_name:\n",
    "            # ajouter à la base de liens un lien de partage avec l'usager·e du tweet original\n",
    "            edges += f\"{user_name};{tmp_row['from_user_name']};Partage;{share_weight};{ahash}\\n\"\n",
    "    try:\n",
    "        # si on a pas déjà regardé les followers de l'utilisateur\n",
    "        if user_name not in users_parsed:\n",
    "            # on ouvre le fichier des followers\n",
    "            with open(path_to_users + user_name + '.json', 'r') as f:\n",
    "                # on ne garde que les followers qui sont aussi dans le corpus\n",
    "                data = [user['username'] for user in json.load(\n",
    "                    f) if user['username'] in list(df['from_user_name'])]\n",
    "                # on créé un lien entre chacun de ces followers et l'utilisateur courant\n",
    "                for user in data:\n",
    "                    edges += f\"{user_name};{user};Follow;{follow_weight};\\n\"\n",
    "            users_parsed.append(user_name)\n",
    "    except FileNotFoundError:\n",
    "        print(user_name + \" not found!\")\n",
    "        not_found += 1\n",
    "    except json.JSONDecodeError:\n",
    "        print(user_name + \" error!\")\n",
    "        not_found += 1\n"
   ]
  },
  {
   "cell_type": "code",
   "execution_count": null,
   "metadata": {},
   "outputs": [],
   "source": [
    "# Créer des liens basés sur la copublication&follow de sha1 et le follow\n",
    "\n",
    "sorted = df.sort_values(by=\"sha1\")\n",
    "users_parsed = []\n",
    "edges = \"Source;Target;TypeLien;Weight;Sha1\\n\"\n",
    "current_sha1 = None\n",
    "current_user = None\n",
    "for index, row in sorted.iterrows():\n",
    "    user_name = row['from_user_name']\n",
    "    if current_sha1 == row['sha1'] and current_user != user_name:\n",
    "        try:\n",
    "            with open('following/' + user_name + '.json', 'r') as f:\n",
    "                data = [user['username'] for user in json.load(f)]\n",
    "                if current_user in data:\n",
    "                    type_link = \"Partage&Follow\"\n",
    "                else:\n",
    "                    type_link = \"Partage\"\n",
    "                edges += f\"{user_name};{current_user};{type_link};1;{current_sha1}\\n\"\n",
    "\n",
    "        except FileNotFoundError:\n",
    "            print(user_name + \" not found!\")\n",
    "            not_found += 1\n",
    "        except json.JSONDecodeError:\n",
    "            print(user_name + \" error!\")\n",
    "    current_sha1 = row['sha1']\n",
    "    current_user = user_name\n",
    "not_found\n"
   ]
  },
  {
   "cell_type": "code",
   "execution_count": 11,
   "metadata": {},
   "outputs": [],
   "source": [
    "# Écrire le .csv\n",
    "\n",
    "with open(f\"ahash_follow_{follow_weight}_share_{share_weight}.csv\", 'w', encoding='utf-8') as f:\n",
    "    f.write(edges)"
   ]
  }
 ],
 "metadata": {
  "kernelspec": {
   "display_name": "Python 3.9.7 ('base')",
   "language": "python",
   "name": "python3"
  },
  "language_info": {
   "codemirror_mode": {
    "name": "ipython",
    "version": 3
   },
   "file_extension": ".py",
   "mimetype": "text/x-python",
   "name": "python",
   "nbconvert_exporter": "python",
   "pygments_lexer": "ipython3",
   "version": "3.9.7"
  },
  "orig_nbformat": 4,
  "vscode": {
   "interpreter": {
    "hash": "3785a633635558c05a6b1aca16a69f0ae054170ee828414f8ee7977178feb401"
   }
  }
 },
 "nbformat": 4,
 "nbformat_minor": 2
}
